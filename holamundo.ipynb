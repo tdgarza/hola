{
 "cells": [
  {
   "cell_type": "code",
   "execution_count": 88,
   "metadata": {},
   "outputs": [
    {
     "name": "stdout",
     "output_type": "stream",
     "text": [
      "hola mundo\n"
     ]
    }
   ],
   "source": [
    "print(\"hola mundo\")"
   ]
  },
  {
   "cell_type": "markdown",
   "metadata": {},
   "source": [
    "## Titulo"
   ]
  },
  {
   "cell_type": "markdown",
   "metadata": {},
   "source": [
    "### Titulo"
   ]
  },
  {
   "cell_type": "markdown",
   "metadata": {},
   "source": [
    "# Titulo"
   ]
  },
  {
   "cell_type": "markdown",
   "metadata": {},
   "source": [
    "Capturar el nombre y 3 calificaciones, promediar, y en base al promedio, decidir si exenta, presenta ordinario o un extraordinario."
   ]
  },
  {
   "cell_type": "code",
   "execution_count": 89,
   "metadata": {},
   "outputs": [
    {
     "name": "stdout",
     "output_type": "stream",
     "text": [
      "Presenta examen ordinario\n"
     ]
    }
   ],
   "source": [
    "nombre=input(\"Dame el nombre del alumno\")\n",
    "calificacion1=int(input(\"Calificacion del primer parcial\"))\n",
    "calificacion2=int(input(\"Calificacion del segundo parcial\"))\n",
    "calificacion3=int(input(\"Calificacion del tercer parcial\"))\n",
    "promedio=((calificacion1) + (calificacion2) + (calificacion3))/3\n",
    "if (promedio>5):\n",
    "  { \"el alumno: \"+nombre +\" tuvo un promedio de: \" +str(promedio)}\n",
    "else:\n",
    "    print(\"Presenta examen ordinario\")"
   ]
  }
 ],
 "metadata": {
  "interpreter": {
   "hash": "aee8b7b246df8f9039afb4144a1f6fd8d2ca17a180786b69acc140d282b71a49"
  },
  "kernelspec": {
   "display_name": "Python 3.10.2 64-bit",
   "language": "python",
   "name": "python3"
  },
  "language_info": {
   "codemirror_mode": {
    "name": "ipython",
    "version": 3
   },
   "file_extension": ".py",
   "mimetype": "text/x-python",
   "name": "python",
   "nbconvert_exporter": "python",
   "pygments_lexer": "ipython3",
   "version": "3.10.2"
  },
  "orig_nbformat": 4
 },
 "nbformat": 4,
 "nbformat_minor": 2
}
