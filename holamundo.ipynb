{
 "cells": [
  {
   "cell_type": "code",
   "execution_count": 108,
   "metadata": {},
   "outputs": [
    {
     "name": "stdout",
     "output_type": "stream",
     "text": [
      "hola mundo\n"
     ]
    }
   ],
   "source": [
    "print(\"hola mundo\")"
   ]
  },
  {
   "cell_type": "markdown",
   "metadata": {},
   "source": [
    "## Titulo"
   ]
  },
  {
   "cell_type": "markdown",
   "metadata": {},
   "source": [
    "### Titulo"
   ]
  },
  {
   "cell_type": "markdown",
   "metadata": {},
   "source": [
    "# Titulo"
   ]
  },
  {
   "cell_type": "markdown",
   "metadata": {},
   "source": [
    "Capturar el nombre y 3 calificaciones, promediar, y en base al promedio, decidir si exenta, presenta ordinario o un extraordinario."
   ]
  },
  {
   "cell_type": "code",
   "execution_count": 109,
   "metadata": {},
   "outputs": [
    {
     "name": "stdout",
     "output_type": "stream",
     "text": [
      "el alumno: Juan Presenta examen ordinario por su promedio: 6.666666666666667\n"
     ]
    }
   ],
   "source": [
    "nombre=input(\"Dame el nombre del alumno\")\n",
    "calificacion1=int(input(\"Calificacion del primer parcial\"))\n",
    "calificacion2=int(input(\"Calificacion del segundo parcial\"))\n",
    "calificacion3=int(input(\"Calificacion del tercer parcial\"))\n",
    "promedio=((calificacion1) + (calificacion2) + (calificacion3))/3\n",
    "if (promedio>8):\n",
    "  { \"el alumno: \"+nombre +\" tuvo un promedio de: \" +str(promedio)}\n",
    "elif(promedio>=6 and promedio<=8):\n",
    "    {print(\"el alumno: \"+nombre +\" Presenta examen ordinario por su promedio: \" +str(promedio))}\n",
    "elif(promedio<6):\n",
    "   {print(\"el alumno: \"+nombre +\" Presenta examen extraordinario por su promedio: \" +str(promedio))}"
   ]
  }
 ],
 "metadata": {
  "interpreter": {
   "hash": "aee8b7b246df8f9039afb4144a1f6fd8d2ca17a180786b69acc140d282b71a49"
  },
  "kernelspec": {
   "display_name": "Python 3.10.2 64-bit",
   "language": "python",
   "name": "python3"
  },
  "language_info": {
   "codemirror_mode": {
    "name": "ipython",
    "version": 3
   },
   "file_extension": ".py",
   "mimetype": "text/x-python",
   "name": "python",
   "nbconvert_exporter": "python",
   "pygments_lexer": "ipython3",
   "version": "3.10.2"
  },
  "orig_nbformat": 4
 },
 "nbformat": 4,
 "nbformat_minor": 2
}
